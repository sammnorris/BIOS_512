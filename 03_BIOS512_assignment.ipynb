{
 "cells": [
  {
   "cell_type": "markdown",
   "id": "e9216b63-c18a-4c9b-beff-4b6b2e1b6964",
   "metadata": {},
   "source": [
    "# BIOS512 Assignment #3"
   ]
  },
  {
   "cell_type": "markdown",
   "id": "4403015e-d27f-473c-8720-088ac6db57c9",
   "metadata": {},
   "source": [
    "Import the 📈Tidyverse into your `R` session"
   ]
  },
  {
   "cell_type": "code",
   "execution_count": 1,
   "id": "2cb997c6-b57c-4198-aa5c-8be897467c7c",
   "metadata": {
    "tags": []
   },
   "outputs": [
    {
     "name": "stderr",
     "output_type": "stream",
     "text": [
      "Warning message:\n",
      "“Failed to locate timezone database”\n",
      "── \u001b[1mAttaching core tidyverse packages\u001b[22m ──────────────────────── tidyverse 2.0.0 ──\n",
      "\u001b[32m✔\u001b[39m \u001b[34mdplyr    \u001b[39m 1.1.3     \u001b[32m✔\u001b[39m \u001b[34mreadr    \u001b[39m 2.1.4\n",
      "\u001b[32m✔\u001b[39m \u001b[34mforcats  \u001b[39m 1.0.0     \u001b[32m✔\u001b[39m \u001b[34mstringr  \u001b[39m 1.5.0\n",
      "\u001b[32m✔\u001b[39m \u001b[34mggplot2  \u001b[39m 3.4.3     \u001b[32m✔\u001b[39m \u001b[34mtibble   \u001b[39m 3.2.1\n",
      "\u001b[32m✔\u001b[39m \u001b[34mlubridate\u001b[39m 1.9.2     \u001b[32m✔\u001b[39m \u001b[34mtidyr    \u001b[39m 1.3.0\n",
      "\u001b[32m✔\u001b[39m \u001b[34mpurrr    \u001b[39m 1.0.2     \n",
      "── \u001b[1mConflicts\u001b[22m ────────────────────────────────────────── tidyverse_conflicts() ──\n",
      "\u001b[31m✖\u001b[39m \u001b[34mdplyr\u001b[39m::\u001b[32mfilter()\u001b[39m masks \u001b[34mstats\u001b[39m::filter()\n",
      "\u001b[31m✖\u001b[39m \u001b[34mdplyr\u001b[39m::\u001b[32mlag()\u001b[39m    masks \u001b[34mstats\u001b[39m::lag()\n",
      "\u001b[36mℹ\u001b[39m Use the conflicted package (\u001b[3m\u001b[34m<http://conflicted.r-lib.org/>\u001b[39m\u001b[23m) to force all conflicts to become errors\n"
     ]
    }
   ],
   "source": [
    "library('tidyverse')"
   ]
  },
  {
   "cell_type": "markdown",
   "id": "47ccf7f6-01c6-46b4-94a1-f8dcd8ef8377",
   "metadata": {},
   "source": [
    "In this assignment we'll be using data from the [TidyTuesday Project](https://github.com/rfordatascience/tidytuesday). Specifically, we'll investigate vaccination rates at US schools. A `CSV` file of the data is located at:  \n",
    "\n",
    "[https://github.com/rfordatascience/tidytuesday/blob/master/data/2020/2020-02-25/measles.csv](https://github.com/rfordatascience/tidytuesday/blob/master/data/2020/2020-02-25/measles.csv)\n",
    "\n",
    "Get the \"raw\" data URL and import it into your `R` session using `read_csv`. Remember to capture the data under a variable name of your choosing!"
   ]
  },
  {
   "cell_type": "code",
   "execution_count": 2,
   "id": "8de37571-29da-4393-b1eb-ca13fcd70fed",
   "metadata": {
    "tags": []
   },
   "outputs": [
    {
     "name": "stderr",
     "output_type": "stream",
     "text": [
      "\u001b[1mRows: \u001b[22m\u001b[34m66113\u001b[39m \u001b[1mColumns: \u001b[22m\u001b[34m16\u001b[39m\n",
      "\u001b[36m──\u001b[39m \u001b[1mColumn specification\u001b[22m \u001b[36m────────────────────────────────────────────────────────\u001b[39m\n",
      "\u001b[1mDelimiter:\u001b[22m \",\"\n",
      "\u001b[31mchr\u001b[39m (6): state, year, name, type, city, county\n",
      "\u001b[32mdbl\u001b[39m (8): index, enroll, mmr, overall, xmed, xper, lat, lng\n",
      "\u001b[33mlgl\u001b[39m (2): district, xrel\n",
      "\n",
      "\u001b[36mℹ\u001b[39m Use `spec()` to retrieve the full column specification for this data.\n",
      "\u001b[36mℹ\u001b[39m Specify the column types or set `show_col_types = FALSE` to quiet this message.\n"
     ]
    }
   ],
   "source": [
    "usvaccines.data = read_csv('https://raw.githubusercontent.com/rfordatascience/tidytuesday/master/data/2020/2020-02-25/measles.csv')"
   ]
  },
  {
   "cell_type": "code",
   "execution_count": 3,
   "id": "f0a9fd88-20db-4b26-b152-86327bf96d76",
   "metadata": {
    "tags": []
   },
   "outputs": [
    {
     "data": {
      "text/html": [
       "<style>\n",
       ".list-inline {list-style: none; margin:0; padding: 0}\n",
       ".list-inline>li {display: inline-block}\n",
       ".list-inline>li:not(:last-child)::after {content: \"\\00b7\"; padding: 0 .5ex}\n",
       "</style>\n",
       "<ol class=list-inline><li>'index'</li><li>'state'</li><li>'year'</li><li>'name'</li><li>'type'</li><li>'city'</li><li>'county'</li><li>'district'</li><li>'enroll'</li><li>'mmr'</li><li>'overall'</li><li>'xrel'</li><li>'xmed'</li><li>'xper'</li><li>'lat'</li><li>'lng'</li></ol>\n"
      ],
      "text/latex": [
       "\\begin{enumerate*}\n",
       "\\item 'index'\n",
       "\\item 'state'\n",
       "\\item 'year'\n",
       "\\item 'name'\n",
       "\\item 'type'\n",
       "\\item 'city'\n",
       "\\item 'county'\n",
       "\\item 'district'\n",
       "\\item 'enroll'\n",
       "\\item 'mmr'\n",
       "\\item 'overall'\n",
       "\\item 'xrel'\n",
       "\\item 'xmed'\n",
       "\\item 'xper'\n",
       "\\item 'lat'\n",
       "\\item 'lng'\n",
       "\\end{enumerate*}\n"
      ],
      "text/markdown": [
       "1. 'index'\n",
       "2. 'state'\n",
       "3. 'year'\n",
       "4. 'name'\n",
       "5. 'type'\n",
       "6. 'city'\n",
       "7. 'county'\n",
       "8. 'district'\n",
       "9. 'enroll'\n",
       "10. 'mmr'\n",
       "11. 'overall'\n",
       "12. 'xrel'\n",
       "13. 'xmed'\n",
       "14. 'xper'\n",
       "15. 'lat'\n",
       "16. 'lng'\n",
       "\n",
       "\n"
      ],
      "text/plain": [
       " [1] \"index\"    \"state\"    \"year\"     \"name\"     \"type\"     \"city\"    \n",
       " [7] \"county\"   \"district\" \"enroll\"   \"mmr\"      \"overall\"  \"xrel\"    \n",
       "[13] \"xmed\"     \"xper\"     \"lat\"      \"lng\"     "
      ]
     },
     "metadata": {},
     "output_type": "display_data"
    }
   ],
   "source": [
    "usvaccines.data |> colnames()"
   ]
  },
  {
   "cell_type": "markdown",
   "id": "feb89cec-8cda-457d-95cf-89dbfa932ab4",
   "metadata": {},
   "source": [
    "The `mmr` column has holds 🤒 measles, mumps, rubella 🤒 vaccination rates for students in each respective school. **If the `mmr` value is not available for a school the `mmr` value is set to -1 in this data set.** \n",
    "\n",
    "The target `mmr` vaccination rate as [recommended by the CDC](https://www.cdc.gov/mmwr/preview/mmwrhtml/mm5632a3.htm) for schools is 95%. \n",
    "\n",
    "**Calculate the fraction of schools per state that have vaccination rates greater than the CDC 95%. Capture the output as a table called `df_vacc_rates`.**\n",
    "\n",
    "You'll need to do use `filter`, `group_by`, and `summarize`. \n",
    "\n",
    "I.e.\n",
    "1. Filter out schools that don't report `mmr` vaccination rate (keep schools where `mmr >= 0`).\n",
    "1. Group the data by `state`.\n",
    "1. Summarize fracion of vaccination rates above 95%.\n",
    "\n",
    "💡Remember `n()` stands for the number or records in a group. Also, `sum(mmr >= 95, na.rm=TRUE)` will count the number of values above or equal to 95.💡"
   ]
  },
  {
   "cell_type": "code",
   "execution_count": 4,
   "id": "0ba9a861-00fc-4392-a67d-cddbd5a994e0",
   "metadata": {},
   "outputs": [
    {
     "data": {
      "text/html": [
       "<table class=\"dataframe\">\n",
       "<caption>A tibble: 6 × 2</caption>\n",
       "<thead>\n",
       "\t<tr><th scope=col>state</th><th scope=col>School.Proportion</th></tr>\n",
       "\t<tr><th scope=col>&lt;chr&gt;</th><th scope=col>&lt;dbl&gt;</th></tr>\n",
       "</thead>\n",
       "<tbody>\n",
       "\t<tr><td>Arizona    </td><td>0.506404782</td></tr>\n",
       "\t<tr><td>Arkansas   </td><td>0.003527337</td></tr>\n",
       "\t<tr><td>California </td><td>0.888506151</td></tr>\n",
       "\t<tr><td>Colorado   </td><td>0.623092236</td></tr>\n",
       "\t<tr><td>Connecticut</td><td>0.811544992</td></tr>\n",
       "\t<tr><td>Illinois   </td><td>0.896825397</td></tr>\n",
       "</tbody>\n",
       "</table>\n"
      ],
      "text/latex": [
       "A tibble: 6 × 2\n",
       "\\begin{tabular}{ll}\n",
       " state & School.Proportion\\\\\n",
       " <chr> & <dbl>\\\\\n",
       "\\hline\n",
       "\t Arizona     & 0.506404782\\\\\n",
       "\t Arkansas    & 0.003527337\\\\\n",
       "\t California  & 0.888506151\\\\\n",
       "\t Colorado    & 0.623092236\\\\\n",
       "\t Connecticut & 0.811544992\\\\\n",
       "\t Illinois    & 0.896825397\\\\\n",
       "\\end{tabular}\n"
      ],
      "text/markdown": [
       "\n",
       "A tibble: 6 × 2\n",
       "\n",
       "| state &lt;chr&gt; | School.Proportion &lt;dbl&gt; |\n",
       "|---|---|\n",
       "| Arizona     | 0.506404782 |\n",
       "| Arkansas    | 0.003527337 |\n",
       "| California  | 0.888506151 |\n",
       "| Colorado    | 0.623092236 |\n",
       "| Connecticut | 0.811544992 |\n",
       "| Illinois    | 0.896825397 |\n",
       "\n"
      ],
      "text/plain": [
       "  state       School.Proportion\n",
       "1 Arizona     0.506404782      \n",
       "2 Arkansas    0.003527337      \n",
       "3 California  0.888506151      \n",
       "4 Colorado    0.623092236      \n",
       "5 Connecticut 0.811544992      \n",
       "6 Illinois    0.896825397      "
      ]
     },
     "metadata": {},
     "output_type": "display_data"
    }
   ],
   "source": [
    "df_vacc_rates = usvaccines.data |> \n",
    "    filter(mmr>=0) |> \n",
    "    group_by(state) |> \n",
    "    summarize(sum(mmr>=95, na.rm=TRUE)/n())\n",
    "\n",
    "colnames(df_vacc_rates)[2] =\"School.Proportion\"\n",
    "\n",
    "df_vacc_rates |> head()"
   ]
  },
  {
   "cell_type": "markdown",
   "id": "900ddf7f-d801-4a70-9453-73bdd3277344",
   "metadata": {},
   "source": [
    "Which state (of those that report `mmr`) has the smallest fraction of schools above the CDC target vaccination rate of 95%?  "
   ]
  },
  {
   "cell_type": "code",
   "execution_count": 5,
   "id": "13812611-a534-46c2-aae6-0f6c645273e0",
   "metadata": {},
   "outputs": [
    {
     "data": {
      "text/html": [
       "<table class=\"dataframe\">\n",
       "<caption>A tibble: 21 × 2</caption>\n",
       "<thead>\n",
       "\t<tr><th scope=col>state</th><th scope=col>School.Proportion</th></tr>\n",
       "\t<tr><th scope=col>&lt;chr&gt;</th><th scope=col>&lt;dbl&gt;</th></tr>\n",
       "</thead>\n",
       "<tbody>\n",
       "\t<tr><td>Arkansas     </td><td>0.003527337</td></tr>\n",
       "\t<tr><td>Washington   </td><td>0.326592518</td></tr>\n",
       "\t<tr><td>North Dakota </td><td>0.455555556</td></tr>\n",
       "\t<tr><td>Maine        </td><td>0.473389356</td></tr>\n",
       "\t<tr><td>Minnesota    </td><td>0.473948525</td></tr>\n",
       "\t<tr><td>Ohio         </td><td>0.491606715</td></tr>\n",
       "\t<tr><td>Arizona      </td><td>0.506404782</td></tr>\n",
       "\t<tr><td>Oregon       </td><td>0.593052109</td></tr>\n",
       "\t<tr><td>Colorado     </td><td>0.623092236</td></tr>\n",
       "\t<tr><td>Texas        </td><td>0.626387176</td></tr>\n",
       "\t<tr><td>Utah         </td><td>0.679933665</td></tr>\n",
       "\t<tr><td>Missouri     </td><td>0.680000000</td></tr>\n",
       "\t<tr><td>Vermont      </td><td>0.683431953</td></tr>\n",
       "\t<tr><td>Montana      </td><td>0.708812261</td></tr>\n",
       "\t<tr><td>South Dakota </td><td>0.742627346</td></tr>\n",
       "\t<tr><td>Connecticut  </td><td>0.811544992</td></tr>\n",
       "\t<tr><td>Pennsylvania </td><td>0.834966478</td></tr>\n",
       "\t<tr><td>New York     </td><td>0.859822073</td></tr>\n",
       "\t<tr><td>Massachusetts</td><td>0.865828092</td></tr>\n",
       "\t<tr><td>California   </td><td>0.888506151</td></tr>\n",
       "\t<tr><td>Illinois     </td><td>0.896825397</td></tr>\n",
       "</tbody>\n",
       "</table>\n"
      ],
      "text/latex": [
       "A tibble: 21 × 2\n",
       "\\begin{tabular}{ll}\n",
       " state & School.Proportion\\\\\n",
       " <chr> & <dbl>\\\\\n",
       "\\hline\n",
       "\t Arkansas      & 0.003527337\\\\\n",
       "\t Washington    & 0.326592518\\\\\n",
       "\t North Dakota  & 0.455555556\\\\\n",
       "\t Maine         & 0.473389356\\\\\n",
       "\t Minnesota     & 0.473948525\\\\\n",
       "\t Ohio          & 0.491606715\\\\\n",
       "\t Arizona       & 0.506404782\\\\\n",
       "\t Oregon        & 0.593052109\\\\\n",
       "\t Colorado      & 0.623092236\\\\\n",
       "\t Texas         & 0.626387176\\\\\n",
       "\t Utah          & 0.679933665\\\\\n",
       "\t Missouri      & 0.680000000\\\\\n",
       "\t Vermont       & 0.683431953\\\\\n",
       "\t Montana       & 0.708812261\\\\\n",
       "\t South Dakota  & 0.742627346\\\\\n",
       "\t Connecticut   & 0.811544992\\\\\n",
       "\t Pennsylvania  & 0.834966478\\\\\n",
       "\t New York      & 0.859822073\\\\\n",
       "\t Massachusetts & 0.865828092\\\\\n",
       "\t California    & 0.888506151\\\\\n",
       "\t Illinois      & 0.896825397\\\\\n",
       "\\end{tabular}\n"
      ],
      "text/markdown": [
       "\n",
       "A tibble: 21 × 2\n",
       "\n",
       "| state &lt;chr&gt; | School.Proportion &lt;dbl&gt; |\n",
       "|---|---|\n",
       "| Arkansas      | 0.003527337 |\n",
       "| Washington    | 0.326592518 |\n",
       "| North Dakota  | 0.455555556 |\n",
       "| Maine         | 0.473389356 |\n",
       "| Minnesota     | 0.473948525 |\n",
       "| Ohio          | 0.491606715 |\n",
       "| Arizona       | 0.506404782 |\n",
       "| Oregon        | 0.593052109 |\n",
       "| Colorado      | 0.623092236 |\n",
       "| Texas         | 0.626387176 |\n",
       "| Utah          | 0.679933665 |\n",
       "| Missouri      | 0.680000000 |\n",
       "| Vermont       | 0.683431953 |\n",
       "| Montana       | 0.708812261 |\n",
       "| South Dakota  | 0.742627346 |\n",
       "| Connecticut   | 0.811544992 |\n",
       "| Pennsylvania  | 0.834966478 |\n",
       "| New York      | 0.859822073 |\n",
       "| Massachusetts | 0.865828092 |\n",
       "| California    | 0.888506151 |\n",
       "| Illinois      | 0.896825397 |\n",
       "\n"
      ],
      "text/plain": [
       "   state         School.Proportion\n",
       "1  Arkansas      0.003527337      \n",
       "2  Washington    0.326592518      \n",
       "3  North Dakota  0.455555556      \n",
       "4  Maine         0.473389356      \n",
       "5  Minnesota     0.473948525      \n",
       "6  Ohio          0.491606715      \n",
       "7  Arizona       0.506404782      \n",
       "8  Oregon        0.593052109      \n",
       "9  Colorado      0.623092236      \n",
       "10 Texas         0.626387176      \n",
       "11 Utah          0.679933665      \n",
       "12 Missouri      0.680000000      \n",
       "13 Vermont       0.683431953      \n",
       "14 Montana       0.708812261      \n",
       "15 South Dakota  0.742627346      \n",
       "16 Connecticut   0.811544992      \n",
       "17 Pennsylvania  0.834966478      \n",
       "18 New York      0.859822073      \n",
       "19 Massachusetts 0.865828092      \n",
       "20 California    0.888506151      \n",
       "21 Illinois      0.896825397      "
      ]
     },
     "metadata": {},
     "output_type": "display_data"
    }
   ],
   "source": [
    "df_vacc_rates |> arrange(School.Proportion)"
   ]
  },
  {
   "cell_type": "markdown",
   "id": "828a641e-1c04-4add-b1c8-686e548c6a5a",
   "metadata": {},
   "source": [
    "Per the table above, Arkansas has the smallest fraction of schools above the CDC target vaccination rate of 95%."
   ]
  },
  {
   "cell_type": "markdown",
   "id": "2866ca03-1f87-466e-ab0a-dd69140496e6",
   "metadata": {},
   "source": [
    "**Make a ECDF plot of the school vaccination rates in North Carolina.** Use the `overall` column which reports the \"overall\" vaccination rate at each school.\n",
    "\n",
    "❗️Remember, you can calculate the `y` value for ECDF charts using `row_number`, `mutate`, and `arrange`."
   ]
  },
  {
   "cell_type": "code",
   "execution_count": 6,
   "id": "478c5949-b5cb-4a4c-9915-6201427248c1",
   "metadata": {},
   "outputs": [],
   "source": [
    "NC.Vacc.Rates = usvaccines.data |> filter(state==\"North Carolina\", overall>=0) |>\n",
    "    arrange(overall) |>\n",
    "    mutate(Fraction_of_Schools=row_number()/n())"
   ]
  },
  {
   "cell_type": "code",
   "execution_count": 7,
   "id": "1be932c5-0ae9-49ac-8d6e-2850bd0718aa",
   "metadata": {
    "tags": []
   },
   "outputs": [
    {
     "data": {
      "image/png": "[encoded data removed]",
      "text/plain": [
       "plot without title"
      ]
     },
     "metadata": {
      "image/png": {
       "height": 420,
       "width": 420
      }
     },
     "output_type": "display_data"
    }
   ],
   "source": [
    "p = ggplot(NC.Vacc.Rates, aes(x=overall, y=Fraction_of_Schools)) + geom_line() + geom_point() +\n",
    "    labs(x=\"Vaccination Rate (%)\") +\n",
    "    geom_vline(xintercept=95, linetype='dotted', col='blue')\n",
    "p"
   ]
  },
  {
   "cell_type": "markdown",
   "id": "8f5ea83f-c904-46ee-9f52-af1bd1afbc96",
   "metadata": {},
   "source": [
    "(My solution is below if you want to peek 👀. Uncomment the code, change the cell to `markdown`, and exectute it.)"
   ]
  },
  {
   "cell_type": "markdown",
   "id": "28c8ae2d-23a9-4773-9ce3-c0b50ca6ef8d",
   "metadata": {},
   "source": [
    "![](https://github.com/chuckpr/BIOS512/blob/main/assignments/measles-chart.png?raw=true)"
   ]
  },
  {
   "cell_type": "markdown",
   "id": "d2041941-dcee-42e8-957f-a725dc36388f",
   "metadata": {},
   "source": [
    "Is the median vaccination rate for NC schools above the CDC recommended target?"
   ]
  },
  {
   "cell_type": "code",
   "execution_count": 8,
   "id": "be2ea536-f8ed-486d-b6e3-9853ac2b01d0",
   "metadata": {},
   "outputs": [
    {
     "data": {
      "text/html": [
       "<table class=\"dataframe\">\n",
       "<caption>A tibble: 1 × 1</caption>\n",
       "<thead>\n",
       "\t<tr><th scope=col>median(overall)</th></tr>\n",
       "\t<tr><th scope=col>&lt;dbl&gt;</th></tr>\n",
       "</thead>\n",
       "<tbody>\n",
       "\t<tr><td>100</td></tr>\n",
       "</tbody>\n",
       "</table>\n"
      ],
      "text/latex": [
       "A tibble: 1 × 1\n",
       "\\begin{tabular}{l}\n",
       " median(overall)\\\\\n",
       " <dbl>\\\\\n",
       "\\hline\n",
       "\t 100\\\\\n",
       "\\end{tabular}\n"
      ],
      "text/markdown": [
       "\n",
       "A tibble: 1 × 1\n",
       "\n",
       "| median(overall) &lt;dbl&gt; |\n",
       "|---|\n",
       "| 100 |\n",
       "\n"
      ],
      "text/plain": [
       "  median(overall)\n",
       "1 100            "
      ]
     },
     "metadata": {},
     "output_type": "display_data"
    }
   ],
   "source": [
    "NC.Vacc.Rates |>summarize(median(overall))"
   ]
  },
  {
   "cell_type": "markdown",
   "id": "3d23d70c-2377-4032-bbd4-5daa58263242",
   "metadata": {},
   "source": [
    "Yes, the median vaccination rate for NC schools is above the CDC recommended target."
   ]
  },
  {
   "cell_type": "code",
   "execution_count": null,
   "id": "b4024e3f-d43d-4e41-a16f-b68af5e38438",
   "metadata": {},
   "outputs": [],
   "source": []
  }
 ],
 "metadata": {
  "kernelspec": {
   "display_name": "bios512:R",
   "language": "R",
   "name": "conda-env-bios512-r"
  },
  "language_info": {
   "codemirror_mode": "r",
   "file_extension": ".r",
   "mimetype": "text/x-r-source",
   "name": "R",
   "pygments_lexer": "r",
   "version": "4.3.1"
  }
 },
 "nbformat": 4,
 "nbformat_minor": 5
}
