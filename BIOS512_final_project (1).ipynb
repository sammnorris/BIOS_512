{
 "cells": [
  {
   "cell_type": "markdown",
   "id": "5d0eeb08-8916-4d62-9439-14a565655fa6",
   "metadata": {
    "tags": []
   },
   "source": [
    "# Final Project"
   ]
  },
  {
   "cell_type": "markdown",
   "id": "8ae26f00-8b27-43ca-8e05-22a80c5a302e",
   "metadata": {},
   "source": [
    "**Due date: Saturday, December 9th**"
   ]
  },
  {
   "cell_type": "markdown",
   "id": "9e15c666-1f86-4052-8795-ea8884140ab5",
   "metadata": {},
   "source": [
    "For your final project you will develop a data narrative with a dataset of your choosing. Your data can come from any source. You do not have to comprehensively explore your data. Pick an interesting aspect or two from which to build your narrative."
   ]
  },
  {
   "cell_type": "markdown",
   "id": "af2240af-1cdc-489c-9aa5-10334c628a92",
   "metadata": {
    "jp-MarkdownHeadingCollapsed": true,
    "tags": []
   },
   "source": [
    "## Requirements"
   ]
  },
  {
   "cell_type": "markdown",
   "id": "c6020fc0-6632-4320-b8ad-64b75b08d0b0",
   "metadata": {
    "tags": []
   },
   "source": [
    "- At least **three** visualizations. Visualizations can be simple bar charts that total data categories or rich exploratory figures. (*Tables also count as visualizations but you must have at least two charts.*) \n",
    "- All of the code should be recorded in your narrative. That is, I should be able to run your notebook code start to finish re-producing each of your outputs without error.\n",
    "- At least **two** but no more than **three** paragraphs walking the reader through your analysis.\n",
    "- Charts should exhibit your command of `ggplot2/dplyr/forcats/tidyr` with: \n",
    "  - sensibly sorted categories, \n",
    "  - interpretable labels/axis titles, \n",
    "  - useful annotations (when applicable), \n",
    "  - adjustments to default chart aesthetics, \n",
    "  - appropriate markings (e.g. `geoms`) and encodings."
   ]
  },
  {
   "cell_type": "markdown",
   "id": "c2b1f679-817e-4f05-a3f2-c437996f4e9c",
   "metadata": {
    "tags": []
   },
   "source": [
    "## Notes"
   ]
  },
  {
   "cell_type": "markdown",
   "id": "563bef01-11aa-43ef-af1c-d543aca21ff6",
   "metadata": {},
   "source": [
    "*This project should not take you longer than the time to complete two of our assignments. It is meant to demonstrate that you can build an analysis using `R` and the `Tidyverse` from scratch. Focus your analysis on a small number of data features that you find interesting.*\n",
    "\n",
    "*Remember all the ways of visualizing distributions (ECDFs, histograms, jitter-ed scatter plots, etc.). These will come in very handy!* "
   ]
  },
  {
   "cell_type": "markdown",
   "id": "707529cf-0737-46ae-b1cf-7d716ba6829e",
   "metadata": {},
   "source": [
    "_______________________________________________________________________________________________________________________\n",
    "In this exercise, I will examine how Americans like their steaks cooked. This data was aggregated by writers at FiveThirtyEight from a SurveyMonkey Adueience poll. I will use a few variables to highlight trends on how Americans likes their steak cooked. "
   ]
  },
  {
   "cell_type": "code",
   "execution_count": 1,
   "id": "ab1576e5-c151-4431-a36c-9356a3e1b775",
   "metadata": {
    "tags": []
   },
   "outputs": [
    {
     "name": "stderr",
     "output_type": "stream",
     "text": [
      "Warning message:\n",
      "“Failed to locate timezone database”\n",
      "── \u001b[1mAttaching core tidyverse packages\u001b[22m ──────────────────────── tidyverse 2.0.0 ──\n",
      "\u001b[32m✔\u001b[39m \u001b[34mdplyr    \u001b[39m 1.1.3     \u001b[32m✔\u001b[39m \u001b[34mreadr    \u001b[39m 2.1.4\n",
      "\u001b[32m✔\u001b[39m \u001b[34mforcats  \u001b[39m 1.0.0     \u001b[32m✔\u001b[39m \u001b[34mstringr  \u001b[39m 1.5.0\n",
      "\u001b[32m✔\u001b[39m \u001b[34mggplot2  \u001b[39m 3.4.3     \u001b[32m✔\u001b[39m \u001b[34mtibble   \u001b[39m 3.2.1\n",
      "\u001b[32m✔\u001b[39m \u001b[34mlubridate\u001b[39m 1.9.2     \u001b[32m✔\u001b[39m \u001b[34mtidyr    \u001b[39m 1.3.0\n",
      "\u001b[32m✔\u001b[39m \u001b[34mpurrr    \u001b[39m 1.0.2     \n",
      "── \u001b[1mConflicts\u001b[22m ────────────────────────────────────────── tidyverse_conflicts() ──\n",
      "\u001b[31m✖\u001b[39m \u001b[34mdplyr\u001b[39m::\u001b[32mfilter()\u001b[39m masks \u001b[34mstats\u001b[39m::filter()\n",
      "\u001b[31m✖\u001b[39m \u001b[34mdplyr\u001b[39m::\u001b[32mlag()\u001b[39m    masks \u001b[34mstats\u001b[39m::lag()\n",
      "\u001b[36mℹ\u001b[39m Use the conflicted package (\u001b[3m\u001b[34m<http://conflicted.r-lib.org/>\u001b[39m\u001b[23m) to force all conflicts to become errors\n"
     ]
    }
   ],
   "source": [
    "library('tidyverse')"
   ]
  },
  {
   "cell_type": "code",
   "execution_count": 2,
   "id": "146e7f1c-236b-4b0d-ad5d-b83ea3a1ad73",
   "metadata": {
    "tags": []
   },
   "outputs": [
    {
     "name": "stderr",
     "output_type": "stream",
     "text": [
      "\u001b[1mRows: \u001b[22m\u001b[34m551\u001b[39m \u001b[1mColumns: \u001b[22m\u001b[34m15\u001b[39m\n",
      "\u001b[36m──\u001b[39m \u001b[1mColumn specification\u001b[22m \u001b[36m────────────────────────────────────────────────────────\u001b[39m\n",
      "\u001b[1mDelimiter:\u001b[22m \",\"\n",
      "\u001b[31mchr\u001b[39m (14): Consider the following hypothetical situations: <br>In Lottery A, ...\n",
      "\u001b[32mdbl\u001b[39m  (1): RespondentID\n",
      "\n",
      "\u001b[36mℹ\u001b[39m Use `spec()` to retrieve the full column specification for this data.\n",
      "\u001b[36mℹ\u001b[39m Specify the column types or set `show_col_types = FALSE` to quiet this message.\n"
     ]
    }
   ],
   "source": [
    "steak_df = read_csv('https://raw.githubusercontent.com/fivethirtyeight/data/master/steak-survey/steak-risk-survey.csv')"
   ]
  },
  {
   "cell_type": "code",
   "execution_count": 3,
   "id": "3b213164-275d-4a83-8d19-b1994dcc8517",
   "metadata": {
    "tags": []
   },
   "outputs": [
    {
     "data": {
      "text/html": [
       "<style>\n",
       ".list-inline {list-style: none; margin:0; padding: 0}\n",
       ".list-inline>li {display: inline-block}\n",
       ".list-inline>li:not(:last-child)::after {content: \"\\00b7\"; padding: 0 .5ex}\n",
       "</style>\n",
       "<ol class=list-inline><li>'RespondentID'</li><li>'Consider the following hypothetical situations: &lt;br&gt;In Lottery A, you have a 50% chance of success, with a payout of $100. &lt;br&gt;In Lottery B, you have a 90% chance of success, with a payout of $20. &lt;br&gt;&lt;br&gt;Assuming you have $10 to bet, would you play Lottery A or Lottery B?'</li><li>'Do you ever smoke cigarettes?'</li><li>'Do you ever drink alcohol?'</li><li>'Do you ever gamble?'</li><li>'Have you ever been skydiving?'</li><li>'Do you ever drive above the speed limit?'</li><li>'Have you ever cheated on your significant other?'</li><li>'Do you eat steak?'</li><li>'How do you like your steak prepared?'</li><li>'Gender'</li><li>'Age'</li><li>'Household Income'</li><li>'Education'</li><li>'Location (Census Region)'</li></ol>\n"
      ],
      "text/latex": [
       "\\begin{enumerate*}\n",
       "\\item 'RespondentID'\n",
       "\\item 'Consider the following hypothetical situations: <br>In Lottery A, you have a 50\\% chance of success, with a payout of \\$100. <br>In Lottery B, you have a 90\\% chance of success, with a payout of \\$20. <br><br>Assuming you have \\$10 to bet, would you play Lottery A or Lottery B?'\n",
       "\\item 'Do you ever smoke cigarettes?'\n",
       "\\item 'Do you ever drink alcohol?'\n",
       "\\item 'Do you ever gamble?'\n",
       "\\item 'Have you ever been skydiving?'\n",
       "\\item 'Do you ever drive above the speed limit?'\n",
       "\\item 'Have you ever cheated on your significant other?'\n",
       "\\item 'Do you eat steak?'\n",
       "\\item 'How do you like your steak prepared?'\n",
       "\\item 'Gender'\n",
       "\\item 'Age'\n",
       "\\item 'Household Income'\n",
       "\\item 'Education'\n",
       "\\item 'Location (Census Region)'\n",
       "\\end{enumerate*}\n"
      ],
      "text/markdown": [
       "1. 'RespondentID'\n",
       "2. 'Consider the following hypothetical situations: &lt;br&gt;In Lottery A, you have a 50% chance of success, with a payout of $100. &lt;br&gt;In Lottery B, you have a 90% chance of success, with a payout of $20. &lt;br&gt;&lt;br&gt;Assuming you have $10 to bet, would you play Lottery A or Lottery B?'\n",
       "3. 'Do you ever smoke cigarettes?'\n",
       "4. 'Do you ever drink alcohol?'\n",
       "5. 'Do you ever gamble?'\n",
       "6. 'Have you ever been skydiving?'\n",
       "7. 'Do you ever drive above the speed limit?'\n",
       "8. 'Have you ever cheated on your significant other?'\n",
       "9. 'Do you eat steak?'\n",
       "10. 'How do you like your steak prepared?'\n",
       "11. 'Gender'\n",
       "12. 'Age'\n",
       "13. 'Household Income'\n",
       "14. 'Education'\n",
       "15. 'Location (Census Region)'\n",
       "\n",
       "\n"
      ],
      "text/plain": [
       " [1] \"RespondentID\"                                                                                                                                                                                                                                                                     \n",
       " [2] \"Consider the following hypothetical situations: <br>In Lottery A, you have a 50% chance of success, with a payout of $100. <br>In Lottery B, you have a 90% chance of success, with a payout of $20. <br><br>Assuming you have $10 to bet, would you play Lottery A or Lottery B?\"\n",
       " [3] \"Do you ever smoke cigarettes?\"                                                                                                                                                                                                                                                    \n",
       " [4] \"Do you ever drink alcohol?\"                                                                                                                                                                                                                                                       \n",
       " [5] \"Do you ever gamble?\"                                                                                                                                                                                                                                                              \n",
       " [6] \"Have you ever been skydiving?\"                                                                                                                                                                                                                                                    \n",
       " [7] \"Do you ever drive above the speed limit?\"                                                                                                                                                                                                                                         \n",
       " [8] \"Have you ever cheated on your significant other?\"                                                                                                                                                                                                                                 \n",
       " [9] \"Do you eat steak?\"                                                                                                                                                                                                                                                                \n",
       "[10] \"How do you like your steak prepared?\"                                                                                                                                                                                                                                             \n",
       "[11] \"Gender\"                                                                                                                                                                                                                                                                           \n",
       "[12] \"Age\"                                                                                                                                                                                                                                                                              \n",
       "[13] \"Household Income\"                                                                                                                                                                                                                                                                 \n",
       "[14] \"Education\"                                                                                                                                                                                                                                                                        \n",
       "[15] \"Location (Census Region)\"                                                                                                                                                                                                                                                         "
      ]
     },
     "metadata": {},
     "output_type": "display_data"
    }
   ],
   "source": [
    "steak_df |> colnames()"
   ]
  },
  {
   "cell_type": "code",
   "execution_count": 4,
   "id": "e5b6b533-e3b8-4742-b122-a793c94e6226",
   "metadata": {
    "tags": []
   },
   "outputs": [],
   "source": [
    "colnames(steak_df)[colnames(steak_df) == \"Consider the following hypothetical situations: <br>In Lottery A, you have a 50% chance of success, with a payout of $100. <br>In Lottery B, you have a 90% chance of success, with a payout of $20. <br><br>Assuming you have $10 to bet, would you play Lottery A or Lottery B?\"] =\"lottery\""
   ]
  },
  {
   "cell_type": "code",
   "execution_count": 5,
   "id": "80040218-f3f1-433e-be90-725b36f053d6",
   "metadata": {
    "tags": []
   },
   "outputs": [
    {
     "data": {
      "text/html": [
       "<style>\n",
       ".list-inline {list-style: none; margin:0; padding: 0}\n",
       ".list-inline>li {display: inline-block}\n",
       ".list-inline>li:not(:last-child)::after {content: \"\\00b7\"; padding: 0 .5ex}\n",
       "</style>\n",
       "<ol class=list-inline><li>'RespondentID'</li><li>'lottery'</li><li>'Do you ever smoke cigarettes?'</li><li>'Do you ever drink alcohol?'</li><li>'Do you ever gamble?'</li><li>'Have you ever been skydiving?'</li><li>'Do you ever drive above the speed limit?'</li><li>'Have you ever cheated on your significant other?'</li><li>'Do you eat steak?'</li><li>'How do you like your steak prepared?'</li><li>'Gender'</li><li>'Age'</li><li>'Household Income'</li><li>'Education'</li><li>'Location (Census Region)'</li></ol>\n"
      ],
      "text/latex": [
       "\\begin{enumerate*}\n",
       "\\item 'RespondentID'\n",
       "\\item 'lottery'\n",
       "\\item 'Do you ever smoke cigarettes?'\n",
       "\\item 'Do you ever drink alcohol?'\n",
       "\\item 'Do you ever gamble?'\n",
       "\\item 'Have you ever been skydiving?'\n",
       "\\item 'Do you ever drive above the speed limit?'\n",
       "\\item 'Have you ever cheated on your significant other?'\n",
       "\\item 'Do you eat steak?'\n",
       "\\item 'How do you like your steak prepared?'\n",
       "\\item 'Gender'\n",
       "\\item 'Age'\n",
       "\\item 'Household Income'\n",
       "\\item 'Education'\n",
       "\\item 'Location (Census Region)'\n",
       "\\end{enumerate*}\n"
      ],
      "text/markdown": [
       "1. 'RespondentID'\n",
       "2. 'lottery'\n",
       "3. 'Do you ever smoke cigarettes?'\n",
       "4. 'Do you ever drink alcohol?'\n",
       "5. 'Do you ever gamble?'\n",
       "6. 'Have you ever been skydiving?'\n",
       "7. 'Do you ever drive above the speed limit?'\n",
       "8. 'Have you ever cheated on your significant other?'\n",
       "9. 'Do you eat steak?'\n",
       "10. 'How do you like your steak prepared?'\n",
       "11. 'Gender'\n",
       "12. 'Age'\n",
       "13. 'Household Income'\n",
       "14. 'Education'\n",
       "15. 'Location (Census Region)'\n",
       "\n",
       "\n"
      ],
      "text/plain": [
       " [1] \"RespondentID\"                                    \n",
       " [2] \"lottery\"                                         \n",
       " [3] \"Do you ever smoke cigarettes?\"                   \n",
       " [4] \"Do you ever drink alcohol?\"                      \n",
       " [5] \"Do you ever gamble?\"                             \n",
       " [6] \"Have you ever been skydiving?\"                   \n",
       " [7] \"Do you ever drive above the speed limit?\"        \n",
       " [8] \"Have you ever cheated on your significant other?\"\n",
       " [9] \"Do you eat steak?\"                               \n",
       "[10] \"How do you like your steak prepared?\"            \n",
       "[11] \"Gender\"                                          \n",
       "[12] \"Age\"                                             \n",
       "[13] \"Household Income\"                                \n",
       "[14] \"Education\"                                       \n",
       "[15] \"Location (Census Region)\"                        "
      ]
     },
     "metadata": {},
     "output_type": "display_data"
    }
   ],
   "source": [
    "steak_df |>colnames()"
   ]
  },
  {
   "cell_type": "code",
   "execution_count": 6,
   "id": "a2150118-aa37-43a2-93e9-5f906c4eadf3",
   "metadata": {
    "tags": []
   },
   "outputs": [
    {
     "data": {
      "text/html": [
       "<table class=\"dataframe\">\n",
       "<caption>A grouped_df: 7 × 2</caption>\n",
       "<thead>\n",
       "\t<tr><th scope=col>How do you like your steak prepared?</th><th scope=col>n</th></tr>\n",
       "\t<tr><th scope=col>&lt;chr&gt;</th><th scope=col>&lt;int&gt;</th></tr>\n",
       "</thead>\n",
       "<tbody>\n",
       "\t<tr><td>Medium     </td><td>132</td></tr>\n",
       "\t<tr><td>Medium Well</td><td> 75</td></tr>\n",
       "\t<tr><td>Medium rare</td><td>166</td></tr>\n",
       "\t<tr><td>Rare       </td><td> 23</td></tr>\n",
       "\t<tr><td>Response   </td><td>  1</td></tr>\n",
       "\t<tr><td>Well       </td><td> 36</td></tr>\n",
       "\t<tr><td>NA         </td><td>118</td></tr>\n",
       "</tbody>\n",
       "</table>\n"
      ],
      "text/latex": [
       "A grouped\\_df: 7 × 2\n",
       "\\begin{tabular}{ll}\n",
       " How do you like your steak prepared? & n\\\\\n",
       " <chr> & <int>\\\\\n",
       "\\hline\n",
       "\t Medium      & 132\\\\\n",
       "\t Medium Well &  75\\\\\n",
       "\t Medium rare & 166\\\\\n",
       "\t Rare        &  23\\\\\n",
       "\t Response    &   1\\\\\n",
       "\t Well        &  36\\\\\n",
       "\t NA          & 118\\\\\n",
       "\\end{tabular}\n"
      ],
      "text/markdown": [
       "\n",
       "A grouped_df: 7 × 2\n",
       "\n",
       "| How do you like your steak prepared? &lt;chr&gt; | n &lt;int&gt; |\n",
       "|---|---|\n",
       "| Medium      | 132 |\n",
       "| Medium Well |  75 |\n",
       "| Medium rare | 166 |\n",
       "| Rare        |  23 |\n",
       "| Response    |   1 |\n",
       "| Well        |  36 |\n",
       "| NA          | 118 |\n",
       "\n"
      ],
      "text/plain": [
       "  How do you like your steak prepared? n  \n",
       "1 Medium                               132\n",
       "2 Medium Well                           75\n",
       "3 Medium rare                          166\n",
       "4 Rare                                  23\n",
       "5 Response                               1\n",
       "6 Well                                  36\n",
       "7 NA                                   118"
      ]
     },
     "metadata": {},
     "output_type": "display_data"
    }
   ],
   "source": [
    "steak_df |> group_by(`How do you like your steak prepared?`)|>count(`How do you like your steak prepared?`)"
   ]
  },
  {
   "cell_type": "markdown",
   "id": "8ce5b7a5-8977-4dd9-8a2d-f24ca87ea5ee",
   "metadata": {},
   "source": [
    "The authors posited intially that individuals with a preference for rarer steaks are comfortable taking the risk of foodborne illness. To distinguish individuals on their level of risk taking, they asked the following question: “Consider the following hypothetical situations: In Lottery A, you have a 50 percent chance of success, with a payout of 100 USD. In Lottery B, you have a 90 percent chance of success, with a payout of 10 USD. Assuming you have 10 USD to bet, would you play Lottery A or Lottery B?” Loterry A is the riskier lottery."
   ]
  },
  {
   "cell_type": "code",
   "execution_count": 7,
   "id": "52a7162b-f691-4f24-8e11-8f5511f9208a",
   "metadata": {
    "tags": []
   },
   "outputs": [],
   "source": [
    "steak_df2 = steak_df |> filter(!is.na(lottery), !is.na(`How do you like your steak prepared?`), lottery!=\"Response\",!is.na(`How do you like your steak prepared?`))"
   ]
  },
  {
   "cell_type": "code",
   "execution_count": 11,
   "id": "ea660766-d6ba-46f3-88cb-39a420205115",
   "metadata": {
    "tags": []
   },
   "outputs": [],
   "source": [
    "steak_df3 = steak_df2 |> mutate(temp=factor(`How do you like your steak prepared?`, levels=c(\"Rare\", \"Medium rare\", \"Medium\", \"Medium Well\", \"Well\")))"
   ]
  },
  {
   "cell_type": "code",
   "execution_count": 9,
   "id": "763e5f01-c19c-4c78-b452-a8327f9883e9",
   "metadata": {
    "tags": []
   },
   "outputs": [
    {
     "data": {
      "image/png": "[encoded data removed]",
      "text/plain": [
       "plot without title"
      ]
     },
     "metadata": {
      "image/png": {
       "height": 420,
       "width": 420
      }
     },
     "output_type": "display_data"
    }
   ],
   "source": [
    "p1 = ggplot(steak_df3, aes(x=temp, fill=`lottery`)) + geom_bar() +\n",
    "    labs(x=\"Steak Temperature\", y=\"Number of Respondents\", fill=\"Lottery Choice\") +\n",
    "    ggtitle(\"Lottery Risk by Steak Temperature\") +\n",
    "    scale_fill_brewer(palette = \"Reds\")\n",
    "\n",
    "p1"
   ]
  },
  {
   "cell_type": "markdown",
   "id": "c709c88d-cac2-4f7a-99d2-8be313a4c983",
   "metadata": {},
   "source": [
    "Another way to determine the amount of risk with which the respondent is comfortable taking would be to inquire upon their skydiving experience. We could hypothesis that individuals who have some experience skydiving would enjoy their steaks on the rarer side.  "
   ]
  },
  {
   "cell_type": "code",
   "execution_count": 15,
   "id": "6f412cb9-127b-4ded-b546-7eb24fcdc28b",
   "metadata": {},
   "outputs": [
    {
     "data": {
      "text/html": [
       "<table class=\"dataframe\">\n",
       "<caption>A grouped_df: 10 × 3</caption>\n",
       "<thead>\n",
       "\t<tr><th scope=col>Have you ever been skydiving?</th><th scope=col>temp</th><th scope=col>n</th></tr>\n",
       "\t<tr><th scope=col>&lt;chr&gt;</th><th scope=col>&lt;fct&gt;</th><th scope=col>&lt;int&gt;</th></tr>\n",
       "</thead>\n",
       "<tbody>\n",
       "\t<tr><td>No </td><td>Rare       </td><td> 22</td></tr>\n",
       "\t<tr><td>No </td><td>Medium rare</td><td>153</td></tr>\n",
       "\t<tr><td>No </td><td>Medium     </td><td>123</td></tr>\n",
       "\t<tr><td>No </td><td>Medium Well</td><td> 66</td></tr>\n",
       "\t<tr><td>No </td><td>Well       </td><td> 34</td></tr>\n",
       "\t<tr><td>Yes</td><td>Rare       </td><td>  1</td></tr>\n",
       "\t<tr><td>Yes</td><td>Medium rare</td><td> 10</td></tr>\n",
       "\t<tr><td>Yes</td><td>Medium     </td><td>  8</td></tr>\n",
       "\t<tr><td>Yes</td><td>Medium Well</td><td>  7</td></tr>\n",
       "\t<tr><td>Yes</td><td>Well       </td><td>  2</td></tr>\n",
       "</tbody>\n",
       "</table>\n"
      ],
      "text/latex": [
       "A grouped\\_df: 10 × 3\n",
       "\\begin{tabular}{lll}\n",
       " Have you ever been skydiving? & temp & n\\\\\n",
       " <chr> & <fct> & <int>\\\\\n",
       "\\hline\n",
       "\t No  & Rare        &  22\\\\\n",
       "\t No  & Medium rare & 153\\\\\n",
       "\t No  & Medium      & 123\\\\\n",
       "\t No  & Medium Well &  66\\\\\n",
       "\t No  & Well        &  34\\\\\n",
       "\t Yes & Rare        &   1\\\\\n",
       "\t Yes & Medium rare &  10\\\\\n",
       "\t Yes & Medium      &   8\\\\\n",
       "\t Yes & Medium Well &   7\\\\\n",
       "\t Yes & Well        &   2\\\\\n",
       "\\end{tabular}\n"
      ],
      "text/markdown": [
       "\n",
       "A grouped_df: 10 × 3\n",
       "\n",
       "| Have you ever been skydiving? &lt;chr&gt; | temp &lt;fct&gt; | n &lt;int&gt; |\n",
       "|---|---|---|\n",
       "| No  | Rare        |  22 |\n",
       "| No  | Medium rare | 153 |\n",
       "| No  | Medium      | 123 |\n",
       "| No  | Medium Well |  66 |\n",
       "| No  | Well        |  34 |\n",
       "| Yes | Rare        |   1 |\n",
       "| Yes | Medium rare |  10 |\n",
       "| Yes | Medium      |   8 |\n",
       "| Yes | Medium Well |   7 |\n",
       "| Yes | Well        |   2 |\n",
       "\n"
      ],
      "text/plain": [
       "   Have you ever been skydiving? temp        n  \n",
       "1  No                            Rare         22\n",
       "2  No                            Medium rare 153\n",
       "3  No                            Medium      123\n",
       "4  No                            Medium Well  66\n",
       "5  No                            Well         34\n",
       "6  Yes                           Rare          1\n",
       "7  Yes                           Medium rare  10\n",
       "8  Yes                           Medium        8\n",
       "9  Yes                           Medium Well   7\n",
       "10 Yes                           Well          2"
      ]
     },
     "metadata": {},
     "output_type": "display_data"
    }
   ],
   "source": [
    "steak_df4 = steak_df3 |> filter(!is.na(`Have you ever been skydiving?`)) |> \n",
    "    group_by(`Have you ever been skydiving?`) |>\n",
    "    count(temp)\n",
    "\n",
    "steak_df4"
   ]
  },
  {
   "cell_type": "code",
   "execution_count": 14,
   "id": "ec294f31-d339-4ef4-be61-f49e27da6720",
   "metadata": {
    "tags": []
   },
   "outputs": [
    {
     "data": {
      "image/png": "[encoded data removed]",
      "text/plain": [
       "plot without title"
      ]
     },
     "metadata": {
      "image/png": {
       "height": 420,
       "width": 420
      }
     },
     "output_type": "display_data"
    }
   ],
   "source": [
    "p2 = ggplot(steak_df4, aes(x=n, y=`Have you ever been skydiving?`, fill=`temp`)) + geom_bar(stat='identity') +\n",
    "    labs(y=\"Has the Respondent Been Skydiving?\", x=\"Number of Respondents\", fill=\"Steak Temperature\") +\n",
    "    ggtitle(\"Steak Temperature by Skydiving History\") +\n",
    "    scale_fill_brewer(palette = \"Reds\")\n",
    "p2"
   ]
  },
  {
   "cell_type": "markdown",
   "id": "d2771542-941d-4f3d-a344-3ea206c33ef7",
   "metadata": {},
   "source": [
    "Lastly, we may ask respondents if they have ever cheated on their significant other to determine their level of comfortability in taking risk. "
   ]
  },
  {
   "cell_type": "code",
   "execution_count": 17,
   "id": "e033ed73-62f0-461a-88ea-a5e4f66b3fc8",
   "metadata": {
    "tags": []
   },
   "outputs": [
    {
     "data": {
      "text/html": [
       "<table class=\"dataframe\">\n",
       "<caption>A grouped_df: 10 × 3</caption>\n",
       "<thead>\n",
       "\t<tr><th scope=col>Have you ever cheated on your significant other?</th><th scope=col>temp</th><th scope=col>n</th></tr>\n",
       "\t<tr><th scope=col>&lt;chr&gt;</th><th scope=col>&lt;fct&gt;</th><th scope=col>&lt;int&gt;</th></tr>\n",
       "</thead>\n",
       "<tbody>\n",
       "\t<tr><td>No </td><td>Rare       </td><td> 18</td></tr>\n",
       "\t<tr><td>No </td><td>Medium rare</td><td>143</td></tr>\n",
       "\t<tr><td>No </td><td>Medium     </td><td>105</td></tr>\n",
       "\t<tr><td>No </td><td>Medium Well</td><td> 59</td></tr>\n",
       "\t<tr><td>No </td><td>Well       </td><td> 29</td></tr>\n",
       "\t<tr><td>Yes</td><td>Rare       </td><td>  5</td></tr>\n",
       "\t<tr><td>Yes</td><td>Medium rare</td><td> 20</td></tr>\n",
       "\t<tr><td>Yes</td><td>Medium     </td><td> 26</td></tr>\n",
       "\t<tr><td>Yes</td><td>Medium Well</td><td> 14</td></tr>\n",
       "\t<tr><td>Yes</td><td>Well       </td><td>  7</td></tr>\n",
       "</tbody>\n",
       "</table>\n"
      ],
      "text/latex": [
       "A grouped\\_df: 10 × 3\n",
       "\\begin{tabular}{lll}\n",
       " Have you ever cheated on your significant other? & temp & n\\\\\n",
       " <chr> & <fct> & <int>\\\\\n",
       "\\hline\n",
       "\t No  & Rare        &  18\\\\\n",
       "\t No  & Medium rare & 143\\\\\n",
       "\t No  & Medium      & 105\\\\\n",
       "\t No  & Medium Well &  59\\\\\n",
       "\t No  & Well        &  29\\\\\n",
       "\t Yes & Rare        &   5\\\\\n",
       "\t Yes & Medium rare &  20\\\\\n",
       "\t Yes & Medium      &  26\\\\\n",
       "\t Yes & Medium Well &  14\\\\\n",
       "\t Yes & Well        &   7\\\\\n",
       "\\end{tabular}\n"
      ],
      "text/markdown": [
       "\n",
       "A grouped_df: 10 × 3\n",
       "\n",
       "| Have you ever cheated on your significant other? &lt;chr&gt; | temp &lt;fct&gt; | n &lt;int&gt; |\n",
       "|---|---|---|\n",
       "| No  | Rare        |  18 |\n",
       "| No  | Medium rare | 143 |\n",
       "| No  | Medium      | 105 |\n",
       "| No  | Medium Well |  59 |\n",
       "| No  | Well        |  29 |\n",
       "| Yes | Rare        |   5 |\n",
       "| Yes | Medium rare |  20 |\n",
       "| Yes | Medium      |  26 |\n",
       "| Yes | Medium Well |  14 |\n",
       "| Yes | Well        |   7 |\n",
       "\n"
      ],
      "text/plain": [
       "   Have you ever cheated on your significant other? temp        n  \n",
       "1  No                                               Rare         18\n",
       "2  No                                               Medium rare 143\n",
       "3  No                                               Medium      105\n",
       "4  No                                               Medium Well  59\n",
       "5  No                                               Well         29\n",
       "6  Yes                                              Rare          5\n",
       "7  Yes                                              Medium rare  20\n",
       "8  Yes                                              Medium       26\n",
       "9  Yes                                              Medium Well  14\n",
       "10 Yes                                              Well          7"
      ]
     },
     "metadata": {},
     "output_type": "display_data"
    }
   ],
   "source": [
    "steak_df5= steak_df3 |> filter(!is.na(`Have you ever cheated on your significant other?`)) |>\n",
    "    group_by(`Have you ever cheated on your significant other?`) |>\n",
    "    count(temp)\n",
    "\n",
    "steak_df5"
   ]
  },
  {
   "cell_type": "code",
   "execution_count": 18,
   "id": "387fd973-3749-4c7f-8216-31118522389b",
   "metadata": {
    "tags": []
   },
   "outputs": [
    {
     "data": {
      "image/png": "[encoded data removed]",
      "text/plain": [
       "plot without title"
      ]
     },
     "metadata": {
      "image/png": {
       "height": 420,
       "width": 420
      }
     },
     "output_type": "display_data"
    }
   ],
   "source": [
    "p3 = ggplot(steak_df5, aes(x=n, y=`Have you ever cheated on your significant other?`, fill=`temp`)) + geom_bar(stat='identity') +\n",
    "    labs(y=\"Has the Respondent Cheated on SO?\", x=\"Number of Respondents\", fill=\"Steak Temperature\") +\n",
    "    ggtitle(\"Steak Temperature by Cheating History\") +\n",
    "    scale_fill_brewer(palette = \"Reds\")\n",
    "p3"
   ]
  }
 ],
 "metadata": {
  "kernelspec": {
   "display_name": "bios512:R",
   "language": "R",
   "name": "conda-env-bios512-r"
  },
  "language_info": {
   "codemirror_mode": "r",
   "file_extension": ".r",
   "mimetype": "text/x-r-source",
   "name": "R",
   "pygments_lexer": "r",
   "version": "4.3.1"
  }
 },
 "nbformat": 4,
 "nbformat_minor": 5
}
